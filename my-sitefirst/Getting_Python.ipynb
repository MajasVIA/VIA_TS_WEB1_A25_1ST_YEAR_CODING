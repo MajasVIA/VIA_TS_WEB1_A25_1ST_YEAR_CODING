{
 "cells": [
  {
   "cell_type": "code",
   "execution_count": 2,
   "id": "14781602",
   "metadata": {},
   "outputs": [
    {
     "name": "stdout",
     "output_type": "stream",
     "text": [
      "Hello, world!\n"
     ]
    }
   ],
   "source": [
    "print('Hello, world!')"
   ]
  },
  {
   "cell_type": "code",
   "execution_count": 3,
   "id": "d9eb5fb2",
   "metadata": {},
   "outputs": [
    {
     "name": "stdout",
     "output_type": "stream",
     "text": [
      "Array a: [1 2 3]\n",
      "Array b: [4 5 6]\n",
      "a + b = [5 7 9]\n"
     ]
    }
   ],
   "source": [
    "import numpy as np\n",
    "\n",
    "#create two arrays\n",
    "a = np.array([1, 2, 3])\n",
    "b = np.array([4, 5, 6])\n",
    "\n",
    "# Add them \n",
    "c = a + b \n",
    "\n",
    "print(\"Array a:\", a)\n",
    "print(\"Array b:\", b)\n",
    "print(\"a + b =\", c)\n"
   ]
  },
  {
   "cell_type": "code",
   "execution_count": 4,
   "id": "6717e386",
   "metadata": {},
   "outputs": [
    {
     "name": "stdout",
     "output_type": "stream",
     "text": [
      "A =\n",
      "⎡1  2⎤\n",
      "⎢    ⎥\n",
      "⎣3  4⎦\n",
      "\n",
      "B =\n",
      "⎡5  6⎤\n",
      "⎢    ⎥\n",
      "⎣7  8⎦\n",
      "\n",
      "A + B =\n",
      "⎡6   8 ⎤\n",
      "⎢      ⎥\n",
      "⎣10  12⎦\n"
     ]
    }
   ],
   "source": [
    "from sympy import Matrix, pprint\n",
    "\n",
    "# Define two simple 2x2 matrices \n",
    "A = Matrix([[1, 2],\n",
    "            [3, 4]])\n",
    "B = Matrix([[5, 6],\n",
    "            [7, 8]])\n",
    "\n",
    "# Matrix addition\n",
    "C = A + B \n",
    "\n",
    "# Show Results \n",
    "print(\"A =\")\n",
    "pprint(A)\n",
    "print(\"\\nB =\")\n",
    "pprint(B)\n",
    "print(\"\\nA + B =\")\n",
    "pprint(C)"
   ]
  }
 ],
 "metadata": {
  "kernelspec": {
   "display_name": "Python 3",
   "language": "python",
   "name": "python3"
  },
  "language_info": {
   "codemirror_mode": {
    "name": "ipython",
    "version": 3
   },
   "file_extension": ".py",
   "mimetype": "text/x-python",
   "name": "python",
   "nbconvert_exporter": "python",
   "pygments_lexer": "ipython3",
   "version": "3.13.7"
  }
 },
 "nbformat": 4,
 "nbformat_minor": 5
}
