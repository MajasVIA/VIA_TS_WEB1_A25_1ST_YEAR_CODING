{
 "cells": [
  {
   "cell_type": "code",
   "execution_count": null,
   "id": "e3485ab6",
   "metadata": {},
   "outputs": [],
   "source": [
    "print('Hello,world!')"
   ]
  }
 ],
 "metadata": {
  "language_info": {
   "name": "python"
  }
 },
 "nbformat": 4,
 "nbformat_minor": 5
}
